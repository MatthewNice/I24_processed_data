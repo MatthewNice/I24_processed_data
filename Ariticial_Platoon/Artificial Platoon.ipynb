{
 "cells": [
  {
   "cell_type": "code",
   "execution_count": 29,
   "metadata": {},
   "outputs": [],
   "source": [
    "import pandas as pd\n",
    "GPSdata = pd.read_csv(\"2021-03-09-13-35-04_2T3MWRFVXLW056972_GPS_Messages.csv\")\n",
    "CANdata = pd.read_csv(\"2021-03-09-13-35-04_2T3MWRFVXLW056972_CAN_Messages.csv\")"
   ]
  },
  {
   "cell_type": "code",
   "execution_count": 30,
   "metadata": {
    "scrolled": true
   },
   "outputs": [
    {
     "data": {
      "text/html": [
       "<div>\n",
       "<style scoped>\n",
       "    .dataframe tbody tr th:only-of-type {\n",
       "        vertical-align: middle;\n",
       "    }\n",
       "\n",
       "    .dataframe tbody tr th {\n",
       "        vertical-align: top;\n",
       "    }\n",
       "\n",
       "    .dataframe thead th {\n",
       "        text-align: right;\n",
       "    }\n",
       "</style>\n",
       "<table border=\"1\" class=\"dataframe\">\n",
       "  <thead>\n",
       "    <tr style=\"text-align: right;\">\n",
       "      <th></th>\n",
       "      <th>Gpstime</th>\n",
       "      <th>Status</th>\n",
       "      <th>Long</th>\n",
       "      <th>Lat</th>\n",
       "      <th>Alt</th>\n",
       "      <th>HDOP</th>\n",
       "      <th>PDOP</th>\n",
       "      <th>VDOP</th>\n",
       "      <th>Systime</th>\n",
       "    </tr>\n",
       "  </thead>\n",
       "  <tbody>\n",
       "    <tr>\n",
       "      <th>0</th>\n",
       "      <td>1.615297e+09</td>\n",
       "      <td>A</td>\n",
       "      <td>-86.793087</td>\n",
       "      <td>36.145039</td>\n",
       "      <td>173.7</td>\n",
       "      <td>1.05</td>\n",
       "      <td>1.60</td>\n",
       "      <td>1.21</td>\n",
       "      <td>1.615297e+09</td>\n",
       "    </tr>\n",
       "    <tr>\n",
       "      <th>1</th>\n",
       "      <td>1.615297e+09</td>\n",
       "      <td>A</td>\n",
       "      <td>-86.793087</td>\n",
       "      <td>36.145040</td>\n",
       "      <td>173.6</td>\n",
       "      <td>1.05</td>\n",
       "      <td>1.60</td>\n",
       "      <td>1.21</td>\n",
       "      <td>1.615297e+09</td>\n",
       "    </tr>\n",
       "    <tr>\n",
       "      <th>2</th>\n",
       "      <td>-2.040393e+09</td>\n",
       "      <td>V</td>\n",
       "      <td>-86.793087</td>\n",
       "      <td>36.145040</td>\n",
       "      <td>173.6</td>\n",
       "      <td>1.05</td>\n",
       "      <td>1.60</td>\n",
       "      <td>1.21</td>\n",
       "      <td>1.615297e+09</td>\n",
       "    </tr>\n",
       "    <tr>\n",
       "      <th>3</th>\n",
       "      <td>-2.040393e+09</td>\n",
       "      <td>V</td>\n",
       "      <td>-86.793087</td>\n",
       "      <td>36.145040</td>\n",
       "      <td>173.6</td>\n",
       "      <td>99.99</td>\n",
       "      <td>99.99</td>\n",
       "      <td>99.99</td>\n",
       "      <td>1.615297e+09</td>\n",
       "    </tr>\n",
       "    <tr>\n",
       "      <th>4</th>\n",
       "      <td>-2.040393e+09</td>\n",
       "      <td>V</td>\n",
       "      <td>-86.793087</td>\n",
       "      <td>36.145040</td>\n",
       "      <td>173.6</td>\n",
       "      <td>99.99</td>\n",
       "      <td>99.99</td>\n",
       "      <td>99.99</td>\n",
       "      <td>1.615297e+09</td>\n",
       "    </tr>\n",
       "  </tbody>\n",
       "</table>\n",
       "</div>"
      ],
      "text/plain": [
       "        Gpstime Status       Long        Lat    Alt   HDOP   PDOP   VDOP  \\\n",
       "0  1.615297e+09      A -86.793087  36.145039  173.7   1.05   1.60   1.21   \n",
       "1  1.615297e+09      A -86.793087  36.145040  173.6   1.05   1.60   1.21   \n",
       "2 -2.040393e+09      V -86.793087  36.145040  173.6   1.05   1.60   1.21   \n",
       "3 -2.040393e+09      V -86.793087  36.145040  173.6  99.99  99.99  99.99   \n",
       "4 -2.040393e+09      V -86.793087  36.145040  173.6  99.99  99.99  99.99   \n",
       "\n",
       "        Systime  \n",
       "0  1.615297e+09  \n",
       "1  1.615297e+09  \n",
       "2  1.615297e+09  \n",
       "3  1.615297e+09  \n",
       "4  1.615297e+09  "
      ]
     },
     "execution_count": 30,
     "metadata": {},
     "output_type": "execute_result"
    }
   ],
   "source": [
    "GPSdata.head()"
   ]
  },
  {
   "cell_type": "code",
   "execution_count": 31,
   "metadata": {},
   "outputs": [
    {
     "data": {
      "text/html": [
       "<div>\n",
       "<style scoped>\n",
       "    .dataframe tbody tr th:only-of-type {\n",
       "        vertical-align: middle;\n",
       "    }\n",
       "\n",
       "    .dataframe tbody tr th {\n",
       "        vertical-align: top;\n",
       "    }\n",
       "\n",
       "    .dataframe thead th {\n",
       "        text-align: right;\n",
       "    }\n",
       "</style>\n",
       "<table border=\"1\" class=\"dataframe\">\n",
       "  <thead>\n",
       "    <tr style=\"text-align: right;\">\n",
       "      <th></th>\n",
       "      <th>Time</th>\n",
       "      <th>Bus</th>\n",
       "      <th>MessageID</th>\n",
       "      <th>Message</th>\n",
       "      <th>MessageLength</th>\n",
       "    </tr>\n",
       "  </thead>\n",
       "  <tbody>\n",
       "    <tr>\n",
       "      <th>0</th>\n",
       "      <td>1.615297e+09</td>\n",
       "      <td>2</td>\n",
       "      <td>836</td>\n",
       "      <td>000000000000004f</td>\n",
       "      <td>8.0</td>\n",
       "    </tr>\n",
       "    <tr>\n",
       "      <th>1</th>\n",
       "      <td>1.615297e+09</td>\n",
       "      <td>130</td>\n",
       "      <td>560</td>\n",
       "      <td>0000000100003a</td>\n",
       "      <td>7.0</td>\n",
       "    </tr>\n",
       "    <tr>\n",
       "      <th>2</th>\n",
       "      <td>1.615297e+09</td>\n",
       "      <td>1</td>\n",
       "      <td>291</td>\n",
       "      <td>010808008000bc</td>\n",
       "      <td>7.0</td>\n",
       "    </tr>\n",
       "    <tr>\n",
       "      <th>3</th>\n",
       "      <td>1.615297e+09</td>\n",
       "      <td>128</td>\n",
       "      <td>836</td>\n",
       "      <td>000000000000004f</td>\n",
       "      <td>8.0</td>\n",
       "    </tr>\n",
       "    <tr>\n",
       "      <th>4</th>\n",
       "      <td>1.615297e+09</td>\n",
       "      <td>0</td>\n",
       "      <td>581</td>\n",
       "      <td>000000307c</td>\n",
       "      <td>5.0</td>\n",
       "    </tr>\n",
       "  </tbody>\n",
       "</table>\n",
       "</div>"
      ],
      "text/plain": [
       "           Time  Bus  MessageID           Message  MessageLength\n",
       "0  1.615297e+09    2        836  000000000000004f            8.0\n",
       "1  1.615297e+09  130        560    0000000100003a            7.0\n",
       "2  1.615297e+09    1        291    010808008000bc            7.0\n",
       "3  1.615297e+09  128        836  000000000000004f            8.0\n",
       "4  1.615297e+09    0        581        000000307c            5.0"
      ]
     },
     "execution_count": 31,
     "metadata": {},
     "output_type": "execute_result"
    }
   ],
   "source": [
    "CANdata.head()"
   ]
  },
  {
   "cell_type": "code",
   "execution_count": 32,
   "metadata": {},
   "outputs": [],
   "source": [
    "n = 15\n",
    "m = 40\n",
    "\n",
    "GPSlist = [GPSdata]\n",
    "CANlist = [CANdata]"
   ]
  },
  {
   "cell_type": "code",
   "execution_count": 36,
   "metadata": {},
   "outputs": [],
   "source": [
    "for x in range (1,n):\n",
    "    tempCAN = CANlist[x-1]\n",
    "    tempGPS = GPSlist[x-1]\n",
    "    tempCAN['Time'] += m\n",
    "    tempGPS['Systime'] += m\n",
    "    CANlist.append(tempCAN)\n",
    "    GPSlist.append(tempGPS)"
   ]
  },
  {
   "cell_type": "code",
   "execution_count": 48,
   "metadata": {
    "scrolled": true
   },
   "outputs": [],
   "source": [
    "for x in range (n):\n",
    "    CANlist[x].to_csv('Platoon/platoonCAN'+ str(x) + '.csv')\n",
    "    GPSlist[x].to_csv('Platoon/platoonGPS'+ str(x) + '.csv')"
   ]
  },
  {
   "cell_type": "code",
   "execution_count": 43,
   "metadata": {},
   "outputs": [],
   "source": []
  },
  {
   "cell_type": "code",
   "execution_count": null,
   "metadata": {},
   "outputs": [],
   "source": []
  }
 ],
 "metadata": {
  "kernelspec": {
   "display_name": "Python 3",
   "language": "python",
   "name": "python3"
  },
  "language_info": {
   "codemirror_mode": {
    "name": "ipython",
    "version": 3
   },
   "file_extension": ".py",
   "mimetype": "text/x-python",
   "name": "python",
   "nbconvert_exporter": "python",
   "pygments_lexer": "ipython3",
   "version": "3.7.6"
  }
 },
 "nbformat": 4,
 "nbformat_minor": 4
}
